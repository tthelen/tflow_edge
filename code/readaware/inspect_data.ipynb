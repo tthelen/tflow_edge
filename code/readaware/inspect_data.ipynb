{
 "cells": [
  {
   "cell_type": "code",
   "execution_count": 19,
   "metadata": {},
   "outputs": [],
   "source": [
    "import pandas as pd\n",
    "from matplotlib import pyplot as pp"
   ]
  },
  {
   "cell_type": "code",
   "execution_count": 33,
   "metadata": {},
   "outputs": [
    {
     "data": {
      "text/html": [
       "<div>\n",
       "<style scoped>\n",
       "    .dataframe tbody tr th:only-of-type {\n",
       "        vertical-align: middle;\n",
       "    }\n",
       "\n",
       "    .dataframe tbody tr th {\n",
       "        vertical-align: top;\n",
       "    }\n",
       "\n",
       "    .dataframe thead th {\n",
       "        text-align: right;\n",
       "    }\n",
       "</style>\n",
       "<table border=\"1\" class=\"dataframe\">\n",
       "  <thead>\n",
       "    <tr style=\"text-align: right;\">\n",
       "      <th></th>\n",
       "      <th>channel0</th>\n",
       "      <th>channel1</th>\n",
       "      <th>channel2</th>\n",
       "      <th>channel3</th>\n",
       "      <th>channel4</th>\n",
       "      <th>channel5</th>\n",
       "      <th>channel6</th>\n",
       "      <th>channel7</th>\n",
       "      <th>target</th>\n",
       "    </tr>\n",
       "  </thead>\n",
       "  <tbody>\n",
       "    <tr>\n",
       "      <th>count</th>\n",
       "      <td>8823.000000</td>\n",
       "      <td>8823.000000</td>\n",
       "      <td>8823.000000</td>\n",
       "      <td>8823.000000</td>\n",
       "      <td>8823.000000</td>\n",
       "      <td>8823.000000</td>\n",
       "      <td>8823.000000</td>\n",
       "      <td>8823.000000</td>\n",
       "      <td>4725.000000</td>\n",
       "    </tr>\n",
       "    <tr>\n",
       "      <th>mean</th>\n",
       "      <td>3.789301</td>\n",
       "      <td>133.895954</td>\n",
       "      <td>19.303752</td>\n",
       "      <td>57.045223</td>\n",
       "      <td>116.247875</td>\n",
       "      <td>-160.516831</td>\n",
       "      <td>-124.770373</td>\n",
       "      <td>87.347728</td>\n",
       "      <td>7.422011</td>\n",
       "    </tr>\n",
       "    <tr>\n",
       "      <th>std</th>\n",
       "      <td>32.819204</td>\n",
       "      <td>1231.274382</td>\n",
       "      <td>633.302519</td>\n",
       "      <td>1207.207020</td>\n",
       "      <td>1234.634075</td>\n",
       "      <td>1194.871831</td>\n",
       "      <td>1221.189964</td>\n",
       "      <td>1239.442020</td>\n",
       "      <td>4.456880</td>\n",
       "    </tr>\n",
       "    <tr>\n",
       "      <th>min</th>\n",
       "      <td>-115.000000</td>\n",
       "      <td>-1452.000000</td>\n",
       "      <td>-1064.000000</td>\n",
       "      <td>-1462.000000</td>\n",
       "      <td>-1462.000000</td>\n",
       "      <td>-1478.000000</td>\n",
       "      <td>-1475.000000</td>\n",
       "      <td>-1463.000000</td>\n",
       "      <td>0.000000</td>\n",
       "    </tr>\n",
       "    <tr>\n",
       "      <th>25%</th>\n",
       "      <td>-15.000000</td>\n",
       "      <td>-1172.000000</td>\n",
       "      <td>-607.500000</td>\n",
       "      <td>-1205.000000</td>\n",
       "      <td>-1200.500000</td>\n",
       "      <td>-1337.000000</td>\n",
       "      <td>-1346.500000</td>\n",
       "      <td>-1217.000000</td>\n",
       "      <td>7.000000</td>\n",
       "    </tr>\n",
       "    <tr>\n",
       "      <th>50%</th>\n",
       "      <td>0.000000</td>\n",
       "      <td>284.000000</td>\n",
       "      <td>83.000000</td>\n",
       "      <td>51.000000</td>\n",
       "      <td>197.000000</td>\n",
       "      <td>-475.000000</td>\n",
       "      <td>-522.000000</td>\n",
       "      <td>-157.000000</td>\n",
       "      <td>11.000000</td>\n",
       "    </tr>\n",
       "    <tr>\n",
       "      <th>75%</th>\n",
       "      <td>18.000000</td>\n",
       "      <td>1438.000000</td>\n",
       "      <td>612.000000</td>\n",
       "      <td>1352.500000</td>\n",
       "      <td>1442.000000</td>\n",
       "      <td>1073.000000</td>\n",
       "      <td>1135.000000</td>\n",
       "      <td>1403.500000</td>\n",
       "      <td>11.000000</td>\n",
       "    </tr>\n",
       "    <tr>\n",
       "      <th>max</th>\n",
       "      <td>103.000000</td>\n",
       "      <td>1749.000000</td>\n",
       "      <td>1108.000000</td>\n",
       "      <td>1742.000000</td>\n",
       "      <td>1755.000000</td>\n",
       "      <td>1711.000000</td>\n",
       "      <td>1724.000000</td>\n",
       "      <td>1756.000000</td>\n",
       "      <td>11.000000</td>\n",
       "    </tr>\n",
       "  </tbody>\n",
       "</table>\n",
       "</div>"
      ],
      "text/plain": [
       "          channel0     channel1     channel2     channel3     channel4  \\\n",
       "count  8823.000000  8823.000000  8823.000000  8823.000000  8823.000000   \n",
       "mean      3.789301   133.895954    19.303752    57.045223   116.247875   \n",
       "std      32.819204  1231.274382   633.302519  1207.207020  1234.634075   \n",
       "min    -115.000000 -1452.000000 -1064.000000 -1462.000000 -1462.000000   \n",
       "25%     -15.000000 -1172.000000  -607.500000 -1205.000000 -1200.500000   \n",
       "50%       0.000000   284.000000    83.000000    51.000000   197.000000   \n",
       "75%      18.000000  1438.000000   612.000000  1352.500000  1442.000000   \n",
       "max     103.000000  1749.000000  1108.000000  1742.000000  1755.000000   \n",
       "\n",
       "          channel5     channel6     channel7       target  \n",
       "count  8823.000000  8823.000000  8823.000000  4725.000000  \n",
       "mean   -160.516831  -124.770373    87.347728     7.422011  \n",
       "std    1194.871831  1221.189964  1239.442020     4.456880  \n",
       "min   -1478.000000 -1475.000000 -1463.000000     0.000000  \n",
       "25%   -1337.000000 -1346.500000 -1217.000000     7.000000  \n",
       "50%    -475.000000  -522.000000  -157.000000    11.000000  \n",
       "75%    1073.000000  1135.000000  1403.500000    11.000000  \n",
       "max    1711.000000  1724.000000  1756.000000    11.000000  "
      ]
     },
     "execution_count": 33,
     "metadata": {},
     "output_type": "execute_result"
    }
   ],
   "source": [
    "df = pd.read_pickle(\"recording.pkl\")\n",
    "df.describe()"
   ]
  },
  {
   "cell_type": "code",
   "execution_count": 38,
   "metadata": {},
   "outputs": [
    {
     "data": {
      "text/plain": [
       "<matplotlib.axes._subplots.AxesSubplot at 0x7f7af4392f98>"
      ]
     },
     "execution_count": 38,
     "metadata": {},
     "output_type": "execute_result"
    },
    {
     "data": {
      "image/png": "[encoded data removed]",
      "text/plain": [
       "<matplotlib.figure.Figure at 0x7f7af4668cf8>"
      ]
     },
     "metadata": {},
     "output_type": "display_data"
    }
   ],
   "source": [
    "df.plot(figsize=(15, 6))"
   ]
  },
  {
   "cell_type": "code",
   "execution_count": null,
   "metadata": {},
   "outputs": [],
   "source": []
  }
 ],
 "metadata": {
  "kernelspec": {
   "display_name": "Python 3",
   "language": "python",
   "name": "python3"
  },
  "language_info": {
   "codemirror_mode": {
    "name": "ipython",
    "version": 3
   },
   "file_extension": ".py",
   "mimetype": "text/x-python",
   "name": "python",
   "nbconvert_exporter": "python",
   "pygments_lexer": "ipython3",
   "version": "3.6.3"
  }
 },
 "nbformat": 4,
 "nbformat_minor": 2
}
